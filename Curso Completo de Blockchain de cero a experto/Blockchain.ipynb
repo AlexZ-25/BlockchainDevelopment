{
  "nbformat": 4,
  "nbformat_minor": 0,
  "metadata": {
    "colab": {
      "name": "Blockchain.ipynb",
      "provenance": [],
      "collapsed_sections": [],
      "authorship_tag": "ABX9TyOFK9cwZwc/+eAlPGHwoaTo",
      "include_colab_link": true
    },
    "kernelspec": {
      "name": "python3",
      "display_name": "Python 3"
    },
    "language_info": {
      "name": "python"
    }
  },
  "cells": [
    {
      "cell_type": "markdown",
      "metadata": {
        "id": "view-in-github",
        "colab_type": "text"
      },
      "source": [
        "<a href=\"https://colab.research.google.com/github/AlexZ-25/BlockchainDevelopment/blob/main/Curso%20Completo%20de%20Blockchain%20de%20cero%20a%20experto/Blockchain.ipynb\" target=\"_parent\"><img src=\"https://colab.research.google.com/assets/colab-badge.svg\" alt=\"Open In Colab\"/></a>"
      ]
    },
    {
      "cell_type": "markdown",
      "source": [
        "# Instalaciones"
      ],
      "metadata": {
        "id": "hs37kTOfDTwF"
      }
    },
    {
      "cell_type": "code",
      "source": [
        "!pip install flask==0.12.2"
      ],
      "metadata": {
        "colab": {
          "base_uri": "https://localhost:8080/"
        },
        "id": "RiK8h5PJDd98",
        "outputId": "47c7b12d-e707-4253-e6f3-612768295c7a"
      },
      "execution_count": null,
      "outputs": [
        {
          "output_type": "stream",
          "name": "stdout",
          "text": [
            "Collecting flask==0.12.2\n",
            "  Downloading Flask-0.12.2-py2.py3-none-any.whl (83 kB)\n",
            "\u001b[?25l\r\u001b[K     |████                            | 10 kB 16.8 MB/s eta 0:00:01\r\u001b[K     |████████                        | 20 kB 17.7 MB/s eta 0:00:01\r\u001b[K     |███████████▉                    | 30 kB 11.0 MB/s eta 0:00:01\r\u001b[K     |███████████████▉                | 40 kB 9.2 MB/s eta 0:00:01\r\u001b[K     |███████████████████▊            | 51 kB 5.2 MB/s eta 0:00:01\r\u001b[K     |███████████████████████▊        | 61 kB 5.4 MB/s eta 0:00:01\r\u001b[K     |███████████████████████████▋    | 71 kB 5.6 MB/s eta 0:00:01\r\u001b[K     |███████████████████████████████▋| 81 kB 6.2 MB/s eta 0:00:01\r\u001b[K     |████████████████████████████████| 83 kB 916 kB/s \n",
            "\u001b[?25hRequirement already satisfied: itsdangerous>=0.21 in /usr/local/lib/python3.7/dist-packages (from flask==0.12.2) (1.1.0)\n",
            "Requirement already satisfied: click>=2.0 in /usr/local/lib/python3.7/dist-packages (from flask==0.12.2) (7.1.2)\n",
            "Requirement already satisfied: Werkzeug>=0.7 in /usr/local/lib/python3.7/dist-packages (from flask==0.12.2) (1.0.1)\n",
            "Requirement already satisfied: Jinja2>=2.4 in /usr/local/lib/python3.7/dist-packages (from flask==0.12.2) (2.11.3)\n",
            "Requirement already satisfied: MarkupSafe>=0.23 in /usr/local/lib/python3.7/dist-packages (from Jinja2>=2.4->flask==0.12.2) (2.0.1)\n",
            "Installing collected packages: flask\n",
            "  Attempting uninstall: flask\n",
            "    Found existing installation: Flask 1.1.4\n",
            "    Uninstalling Flask-1.1.4:\n",
            "      Successfully uninstalled Flask-1.1.4\n",
            "Successfully installed flask-0.12.2\n"
          ]
        }
      ]
    },
    {
      "cell_type": "code",
      "source": [
        "!pip install flask-ngrok==0.0.25"
      ],
      "metadata": {
        "colab": {
          "base_uri": "https://localhost:8080/"
        },
        "id": "6NAhzVFmH1Qk",
        "outputId": "57d6e555-1c4c-41f5-ce2f-b6a3febff07c"
      },
      "execution_count": 3,
      "outputs": [
        {
          "output_type": "stream",
          "name": "stdout",
          "text": [
            "Collecting flask-ngrok==0.0.25\n",
            "  Downloading flask_ngrok-0.0.25-py3-none-any.whl (3.1 kB)\n",
            "Requirement already satisfied: requests in /usr/local/lib/python3.7/dist-packages (from flask-ngrok==0.0.25) (2.23.0)\n",
            "Requirement already satisfied: Flask>=0.8 in /usr/local/lib/python3.7/dist-packages (from flask-ngrok==0.0.25) (1.1.4)\n",
            "Requirement already satisfied: click<8.0,>=5.1 in /usr/local/lib/python3.7/dist-packages (from Flask>=0.8->flask-ngrok==0.0.25) (7.1.2)\n",
            "Requirement already satisfied: Werkzeug<2.0,>=0.15 in /usr/local/lib/python3.7/dist-packages (from Flask>=0.8->flask-ngrok==0.0.25) (1.0.1)\n",
            "Requirement already satisfied: itsdangerous<2.0,>=0.24 in /usr/local/lib/python3.7/dist-packages (from Flask>=0.8->flask-ngrok==0.0.25) (1.1.0)\n",
            "Requirement already satisfied: Jinja2<3.0,>=2.10.1 in /usr/local/lib/python3.7/dist-packages (from Flask>=0.8->flask-ngrok==0.0.25) (2.11.3)\n",
            "Requirement already satisfied: MarkupSafe>=0.23 in /usr/local/lib/python3.7/dist-packages (from Jinja2<3.0,>=2.10.1->Flask>=0.8->flask-ngrok==0.0.25) (2.0.1)\n",
            "Requirement already satisfied: idna<3,>=2.5 in /usr/local/lib/python3.7/dist-packages (from requests->flask-ngrok==0.0.25) (2.10)\n",
            "Requirement already satisfied: urllib3!=1.25.0,!=1.25.1,<1.26,>=1.21.1 in /usr/local/lib/python3.7/dist-packages (from requests->flask-ngrok==0.0.25) (1.24.3)\n",
            "Requirement already satisfied: certifi>=2017.4.17 in /usr/local/lib/python3.7/dist-packages (from requests->flask-ngrok==0.0.25) (2021.10.8)\n",
            "Requirement already satisfied: chardet<4,>=3.0.2 in /usr/local/lib/python3.7/dist-packages (from requests->flask-ngrok==0.0.25) (3.0.4)\n",
            "Installing collected packages: flask-ngrok\n",
            "Successfully installed flask-ngrok-0.0.25\n"
          ]
        }
      ]
    },
    {
      "cell_type": "markdown",
      "source": [
        "# Mi Blockchain con Python\n",
        "\n",
        "---\n",
        "\n",
        "\n"
      ],
      "metadata": {
        "id": "UCUjTbeaI7Px"
      }
    },
    {
      "cell_type": "code",
      "source": [
        "# Importación de las librerías\n",
        "import datetime\n",
        "import hashlib\n",
        "import json\n",
        "from flask        import Flask, jsonify\n",
        "from flask_ngrok  import run_with_ngrok"
      ],
      "metadata": {
        "id": "5u3XMxCPJjM4"
      },
      "execution_count": 4,
      "outputs": []
    },
    {
      "cell_type": "markdown",
      "source": [
        "Creación de una clase Blockchain que contenga todos los métodos esenciales, como son los siguientes:\n",
        "\n",
        "\n",
        "*   Creación de un nuevo bloque\n",
        "*   Obtención del hash de un bloque\n",
        "*   Protocolo de concenso Proof of Work (PoW)\n",
        "*   Generación del hash de un bloque\n",
        "*   Verificación de la validez de la Blockchain\n",
        "\n"
      ],
      "metadata": {
        "id": "jOkicNbaKHLz"
      }
    },
    {
      "cell_type": "code",
      "source": [
        "# Creación de la Blockchain\n",
        "class Blockchain:\n",
        "  \n",
        "  def __init__(self):\n",
        "    \"\"\" Constructor de la clase Blockchain. \"\"\"\n",
        "\n",
        "    self.chain = []\n",
        "    self.create_block(proof = 1, previous_hash = '0')\n",
        "\n",
        "  def create_block(self, proof, previous_hash):\n",
        "    \"\"\" Creación de un nuevo bloque.\n",
        "\n",
        "      Arguments:\n",
        "        - proof: Nounce del bloque actual. (proof != hash)\n",
        "        - previous_hash: Hash del bloque previo.\n",
        "\n",
        "      Returns:\n",
        "        - block: Nuevo bloque creado.\n",
        "      \"\"\"\n",
        "    \n",
        "    block = { 'index'         : len(self.chain) + 1,\n",
        "              'timestamp'     : str(datetime.datetime.now()),\n",
        "              'proof'         : proof,\n",
        "              'previous_hash' : previous_hash}\n",
        "    self.chain.append(block)\n",
        "    return block\n",
        "\n",
        "  def get_previous_block(self):\n",
        "    \"\"\" Obtención del bloque previo de la Blockchain.\n",
        "\n",
        "        Returns:\n",
        "          - Obtención del último bloque de la Blockchain. \"\"\"\n",
        "\n",
        "    return self.chain[-1]\n",
        "\n",
        "  def proof_of_work(self, previous_proof):\n",
        "    \"\"\" Protocolo de concenso Proof of Work (PoW).\n",
        "\n",
        "      Arguments:\n",
        "        - previous_proof: Nounce del bloque previo.\n",
        "\n",
        "      Returns:\n",
        "        - new_proof: Devolución del nuevo nounce obtenido con PoW. \"\"\"\n",
        "        \n",
        "    new_proof = 1\n",
        "    check_proof = False\n",
        "    while check_proof is False:\n",
        "      hash_operation = hashlib.sha256(str(new_proof**2 - previous_proof**2).encode()).hexdigest()\n",
        "      if hash_operation[:4] == \"0000\":\n",
        "          check_proof = True\n",
        "      else:\n",
        "          new_proof += 1\n",
        "    return new_proof\n",
        "\n",
        "  def hash(self, block):\n",
        "    \"\"\" Cálculo del hash de un bloque.\n",
        "\n",
        "      Arguments:\n",
        "        - block: Identifica a un bloque de la Blockchain.\n",
        "\n",
        "      Returns:\n",
        "        - hash_block: Devuelve el hash del bloque. \"\"\"\n",
        "\n",
        "    encoded_block = json.dumps(block, sort_keys= True).encode()\n",
        "    hash_block = hashlib.sha256(encoded_block).hexdigest()\n",
        "    return hash_block\n",
        "\n",
        "  def is_chain_valid(self, chain):\n",
        "    \"\"\" Determina si la Blockchain es válida.\n",
        "\n",
        "      Arguments:\n",
        "          - chain: Cadena de bloques que contiene la información \n",
        "                    de todas las transacciones.\n",
        "\n",
        "      Returns:\n",
        "          - True/False: Devuelve un booleano en función de la validez de la \n",
        "                        Blockchain. (True = Válida, False = Inválida)\"\"\"\n",
        "\n",
        "    previous_block = chain[0]\n",
        "    block_index = 1   \n",
        "    while block_index < len(chain):\n",
        "        block = chain[block_index]\n",
        "        if block['previous_hash'] != self.hash(previous_block):\n",
        "            return False\n",
        "        previous_proof = previous_block['proof']\n",
        "        proof = block['proof']\n",
        "        hash_operation = hashlib.sha256(str(proof**2 - previous_proof**2).encode()).hexdigest()\n",
        "        if hash_operation[:4] != '0000':\n",
        "            return False\n",
        "        previous_block = block\n",
        "        block_index += 1\n",
        "    return True"
      ],
      "metadata": {
        "id": "rt3jowziKv6p"
      },
      "execution_count": 5,
      "outputs": []
    },
    {
      "cell_type": "markdown",
      "source": [
        "Aplicación Web accesible vía en modo de REST API. Mediante llamadas HTTP al REST API podemos establecer una comunicación con el uso del módulo de Flask.\n",
        "\n",
        "Llamadas a realizar vía REST API:\n",
        "\n",
        "\n",
        "*   Minación de bloques: mine_block()\n",
        "*   Obtención de la Blockchain: get_chain()\n",
        "*   Comprobar estado de la Blockchain: is_valid()\n",
        "\n"
      ],
      "metadata": {
        "id": "iP7UOOK8w2dP"
      }
    },
    {
      "cell_type": "code",
      "source": [
        "# Crear una aplicación web\n",
        "# Ejecución de la app con Notebook\n",
        "app = Flask(__name__)\n",
        "run_with_ngrok(app)\n",
        "\n",
        "# Si se obtiene un error 500, actualizar flask y ejecutar la siguiente línea\n",
        "app.config['JSONIFY_PRETTYPRINT_REGULAR'] = False\n",
        "\n",
        "# Creación de la Blockchain\n",
        "blockchain = Blockchain()\n",
        "\n",
        "@app.route('/mine_block', methods =['GET'])\n",
        "def mine_block():\n",
        "  \"\"\" Minado de un nuevo bloque \"\"\"\n",
        "\n",
        "  previous_block = blockchain.get_previous_block()\n",
        "  previous_proof = previous_block['proof']\n",
        "  proof = blockchain.proof_of_work(previous_proof)\n",
        "  previous_hash = blockchain.hash(previous_block)\n",
        "  block = blockchain.create_block(proof, previous_hash)\n",
        "  response = {'message'       : 'Enhorabuena, has minado un nuevo bloque!',\n",
        "              'index'         : block['index'],\n",
        "              'timestamp'     : block['timestamp'],\n",
        "              'proof'         : block['proof'],\n",
        "              'previous_hash' : block['previous_hash']}\n",
        "  return jsonify(response), 200\n",
        "\n",
        "@app.route('/get_chain', methods = ['GET'])\n",
        "def get_chain():\n",
        "  \"\"\" Obtención de la Blockchain \"\"\"\n",
        "  response = {'chain'   : blockchain.chain,\n",
        "              'length'  : len(blockchain.chain)}\n",
        "  return jsonify(response), 200\n",
        "\n",
        "@app.route('/is_valid', methods = ['GET'])\n",
        "def is_valid():\n",
        "  \"\"\" Comprobación si la Blockchain es válida \"\"\"\n",
        "\n",
        "  is_valid = blockchain.is_chain_valid(blockchain.chain)\n",
        "  if is_valid:\n",
        "      response = {'message' : 'La cadena de bloques es válida!'}\n",
        "  else:\n",
        "      response = {'message' : 'La cadena de bloques NO es válida!'}\n",
        "  return jsonify(response), 200"
      ],
      "metadata": {
        "id": "5-zzxskryBv1"
      },
      "execution_count": 13,
      "outputs": []
    },
    {
      "cell_type": "code",
      "source": [
        "# Ejecución de la app con Google Colab\n",
        "app.run()\n",
        "\n",
        "# Ejecución externa a Google colab\n",
        "# app.run(host = '0.0.0.0', port = 5000)"
      ],
      "metadata": {
        "colab": {
          "base_uri": "https://localhost:8080/"
        },
        "id": "11VqokNgsAA9",
        "outputId": "5fde684f-6e19-41d9-f59e-242b9655e8e9"
      },
      "execution_count": null,
      "outputs": [
        {
          "output_type": "stream",
          "name": "stdout",
          "text": [
            " * Serving Flask app \"__main__\" (lazy loading)\n",
            " * Environment: production\n",
            "\u001b[31m   WARNING: This is a development server. Do not use it in a production deployment.\u001b[0m\n",
            "\u001b[2m   Use a production WSGI server instead.\u001b[0m\n",
            " * Debug mode: off\n"
          ]
        },
        {
          "output_type": "stream",
          "name": "stderr",
          "text": [
            " * Running on http://127.0.0.1:5000/ (Press CTRL+C to quit)\n"
          ]
        },
        {
          "output_type": "stream",
          "name": "stdout",
          "text": [
            " * Running on http://4117-35-229-217-54.ngrok.io\n",
            " * Traffic stats available on http://127.0.0.1:4040\n"
          ]
        },
        {
          "output_type": "stream",
          "name": "stderr",
          "text": [
            "127.0.0.1 - - [23/Jan/2022 07:00:00] \"\u001b[33mGET / HTTP/1.1\u001b[0m\" 404 -\n",
            "127.0.0.1 - - [23/Jan/2022 07:00:01] \"\u001b[33mGET / HTTP/1.1\u001b[0m\" 404 -\n",
            "127.0.0.1 - - [23/Jan/2022 07:00:24] \"\u001b[37mGET /mine_block HTTP/1.1\u001b[0m\" 200 -\n",
            "127.0.0.1 - - [23/Jan/2022 07:00:27] \"\u001b[37mGET /mine_block HTTP/1.1\u001b[0m\" 200 -\n",
            "127.0.0.1 - - [23/Jan/2022 07:00:28] \"\u001b[37mGET /mine_block HTTP/1.1\u001b[0m\" 200 -\n",
            "127.0.0.1 - - [23/Jan/2022 07:00:29] \"\u001b[37mGET /mine_block HTTP/1.1\u001b[0m\" 200 -\n",
            "127.0.0.1 - - [23/Jan/2022 07:00:30] \"\u001b[37mGET /mine_block HTTP/1.1\u001b[0m\" 200 -\n",
            "127.0.0.1 - - [23/Jan/2022 07:00:31] \"\u001b[37mGET /mine_block HTTP/1.1\u001b[0m\" 200 -\n",
            "127.0.0.1 - - [23/Jan/2022 07:00:32] \"\u001b[37mGET /mine_block HTTP/1.1\u001b[0m\" 200 -\n",
            "127.0.0.1 - - [23/Jan/2022 07:00:33] \"\u001b[37mGET /mine_block HTTP/1.1\u001b[0m\" 200 -\n",
            "127.0.0.1 - - [23/Jan/2022 07:00:33] \"\u001b[37mGET /mine_block HTTP/1.1\u001b[0m\" 200 -\n",
            "127.0.0.1 - - [23/Jan/2022 07:00:34] \"\u001b[37mGET /mine_block HTTP/1.1\u001b[0m\" 200 -\n",
            "127.0.0.1 - - [23/Jan/2022 07:00:35] \"\u001b[37mGET /mine_block HTTP/1.1\u001b[0m\" 200 -\n",
            "127.0.0.1 - - [23/Jan/2022 07:00:36] \"\u001b[37mGET /mine_block HTTP/1.1\u001b[0m\" 200 -\n",
            "127.0.0.1 - - [23/Jan/2022 07:00:37] \"\u001b[37mGET /mine_block HTTP/1.1\u001b[0m\" 200 -\n",
            "127.0.0.1 - - [23/Jan/2022 07:00:38] \"\u001b[37mGET /mine_block HTTP/1.1\u001b[0m\" 200 -\n",
            "127.0.0.1 - - [23/Jan/2022 07:00:38] \"\u001b[37mGET /mine_block HTTP/1.1\u001b[0m\" 200 -\n",
            "127.0.0.1 - - [23/Jan/2022 07:00:39] \"\u001b[37mGET /mine_block HTTP/1.1\u001b[0m\" 200 -\n",
            "127.0.0.1 - - [23/Jan/2022 07:00:40] \"\u001b[37mGET /mine_block HTTP/1.1\u001b[0m\" 200 -\n",
            "127.0.0.1 - - [23/Jan/2022 07:00:41] \"\u001b[37mGET /mine_block HTTP/1.1\u001b[0m\" 200 -\n",
            "127.0.0.1 - - [23/Jan/2022 07:00:42] \"\u001b[37mGET /mine_block HTTP/1.1\u001b[0m\" 200 -\n",
            "127.0.0.1 - - [23/Jan/2022 07:00:50] \"\u001b[37mGET /get_chain HTTP/1.1\u001b[0m\" 200 -\n",
            "127.0.0.1 - - [23/Jan/2022 07:01:15] \"\u001b[37mGET /is_valid HTTP/1.1\u001b[0m\" 200 -\n"
          ]
        }
      ]
    }
  ]
}