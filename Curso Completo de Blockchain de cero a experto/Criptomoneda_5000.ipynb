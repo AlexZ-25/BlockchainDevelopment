{
  "nbformat": 4,
  "nbformat_minor": 0,
  "metadata": {
    "colab": {
      "name": "Criptomoneda 5000.ipynb",
      "provenance": [],
      "authorship_tag": "ABX9TyOV5OQQkL8w8ZTHv7VEkwGN",
      "include_colab_link": true
    },
    "kernelspec": {
      "name": "python3",
      "display_name": "Python 3"
    },
    "language_info": {
      "name": "python"
    }
  },
  "cells": [
    {
      "cell_type": "markdown",
      "metadata": {
        "id": "view-in-github",
        "colab_type": "text"
      },
      "source": [
        "<a href=\"https://colab.research.google.com/github/AlexZ-25/BlockchainDevelopment/blob/main/Curso%20Completo%20de%20Blockchain%20de%20cero%20a%20experto/Criptomoneda_5000.ipynb\" target=\"_parent\"><img src=\"https://colab.research.google.com/assets/colab-badge.svg\" alt=\"Open In Colab\"/></a>"
      ]
    },
    {
      "cell_type": "markdown",
      "source": [
        "# Instalaciones"
      ],
      "metadata": {
        "id": "kvko2Ri30reY"
      }
    },
    {
      "cell_type": "code",
      "source": [
        "!pip install flask==1.1.2"
      ],
      "metadata": {
        "colab": {
          "base_uri": "https://localhost:8080/",
          "height": 0
        },
        "id": "KFlq4wth0v9b",
        "outputId": "e7824f73-cf8b-4a28-9ac4-265548d4a420"
      },
      "execution_count": 2,
      "outputs": [
        {
          "output_type": "stream",
          "name": "stdout",
          "text": [
            "Collecting flask==1.1.2\n",
            "  Downloading Flask-1.1.2-py2.py3-none-any.whl (94 kB)\n",
            "\u001b[?25l\r\u001b[K     |███▌                            | 10 kB 24.4 MB/s eta 0:00:01\r\u001b[K     |███████                         | 20 kB 9.5 MB/s eta 0:00:01\r\u001b[K     |██████████▍                     | 30 kB 7.7 MB/s eta 0:00:01\r\u001b[K     |█████████████▉                  | 40 kB 7.2 MB/s eta 0:00:01\r\u001b[K     |█████████████████▎              | 51 kB 4.3 MB/s eta 0:00:01\r\u001b[K     |████████████████████▉           | 61 kB 4.2 MB/s eta 0:00:01\r\u001b[K     |████████████████████████▎       | 71 kB 4.4 MB/s eta 0:00:01\r\u001b[K     |███████████████████████████▊    | 81 kB 5.0 MB/s eta 0:00:01\r\u001b[K     |███████████████████████████████▏| 92 kB 5.4 MB/s eta 0:00:01\r\u001b[K     |████████████████████████████████| 94 kB 1.7 MB/s \n",
            "\u001b[?25hRequirement already satisfied: click>=5.1 in /usr/local/lib/python3.7/dist-packages (from flask==1.1.2) (7.1.2)\n",
            "Requirement already satisfied: Jinja2>=2.10.1 in /usr/local/lib/python3.7/dist-packages (from flask==1.1.2) (2.11.3)\n",
            "Requirement already satisfied: itsdangerous>=0.24 in /usr/local/lib/python3.7/dist-packages (from flask==1.1.2) (1.1.0)\n",
            "Requirement already satisfied: Werkzeug>=0.15 in /usr/local/lib/python3.7/dist-packages (from flask==1.1.2) (1.0.1)\n",
            "Requirement already satisfied: MarkupSafe>=0.23 in /usr/local/lib/python3.7/dist-packages (from Jinja2>=2.10.1->flask==1.1.2) (2.0.1)\n",
            "Installing collected packages: flask\n",
            "  Attempting uninstall: flask\n",
            "    Found existing installation: Flask 1.1.4\n",
            "    Uninstalling Flask-1.1.4:\n",
            "      Successfully uninstalled Flask-1.1.4\n",
            "Successfully installed flask-1.1.2\n"
          ]
        },
        {
          "output_type": "display_data",
          "data": {
            "application/vnd.colab-display-data+json": {
              "pip_warning": {
                "packages": [
                  "flask"
                ]
              }
            }
          },
          "metadata": {}
        }
      ]
    },
    {
      "cell_type": "code",
      "source": [
        "!pip install requests==2.25.1"
      ],
      "metadata": {
        "colab": {
          "base_uri": "https://localhost:8080/",
          "height": 0
        },
        "id": "btitvBpg0z6l",
        "outputId": "73c29008-524d-4ab4-e8cc-e3a6bc17dd39"
      },
      "execution_count": 3,
      "outputs": [
        {
          "output_type": "stream",
          "name": "stdout",
          "text": [
            "Collecting requests==2.25.1\n",
            "  Downloading requests-2.25.1-py2.py3-none-any.whl (61 kB)\n",
            "\u001b[?25l\r\u001b[K     |█████▍                          | 10 kB 16.7 MB/s eta 0:00:01\r\u001b[K     |██████████▊                     | 20 kB 4.5 MB/s eta 0:00:01\r\u001b[K     |████████████████                | 30 kB 5.1 MB/s eta 0:00:01\r\u001b[K     |█████████████████████▍          | 40 kB 6.5 MB/s eta 0:00:01\r\u001b[K     |██████████████████████████▊     | 51 kB 4.2 MB/s eta 0:00:01\r\u001b[K     |████████████████████████████████| 61 kB 2.7 MB/s \n",
            "\u001b[?25hRequirement already satisfied: chardet<5,>=3.0.2 in /usr/local/lib/python3.7/dist-packages (from requests==2.25.1) (3.0.4)\n",
            "Requirement already satisfied: certifi>=2017.4.17 in /usr/local/lib/python3.7/dist-packages (from requests==2.25.1) (2021.10.8)\n",
            "Requirement already satisfied: urllib3<1.27,>=1.21.1 in /usr/local/lib/python3.7/dist-packages (from requests==2.25.1) (1.24.3)\n",
            "Requirement already satisfied: idna<3,>=2.5 in /usr/local/lib/python3.7/dist-packages (from requests==2.25.1) (2.10)\n",
            "Installing collected packages: requests\n",
            "  Attempting uninstall: requests\n",
            "    Found existing installation: requests 2.23.0\n",
            "    Uninstalling requests-2.23.0:\n",
            "      Successfully uninstalled requests-2.23.0\n",
            "\u001b[31mERROR: pip's dependency resolver does not currently take into account all the packages that are installed. This behaviour is the source of the following dependency conflicts.\n",
            "google-colab 1.0.0 requires requests~=2.23.0, but you have requests 2.25.1 which is incompatible.\n",
            "datascience 0.10.6 requires folium==0.2.1, but you have folium 0.8.3 which is incompatible.\u001b[0m\n",
            "Successfully installed requests-2.25.1\n"
          ]
        },
        {
          "output_type": "display_data",
          "data": {
            "application/vnd.colab-display-data+json": {
              "pip_warning": {
                "packages": [
                  "requests"
                ]
              }
            }
          },
          "metadata": {}
        }
      ]
    },
    {
      "cell_type": "code",
      "source": [
        "!pip install flask-ngrok==0.0.25"
      ],
      "metadata": {
        "colab": {
          "base_uri": "https://localhost:8080/"
        },
        "id": "7CUX8otK02br",
        "outputId": "00f38cc3-c505-4ec0-cd5e-fc63ad970437"
      },
      "execution_count": 4,
      "outputs": [
        {
          "output_type": "stream",
          "name": "stdout",
          "text": [
            "Collecting flask-ngrok==0.0.25\n",
            "  Downloading flask_ngrok-0.0.25-py3-none-any.whl (3.1 kB)\n",
            "Requirement already satisfied: Flask>=0.8 in /usr/local/lib/python3.7/dist-packages (from flask-ngrok==0.0.25) (1.1.2)\n",
            "Requirement already satisfied: requests in /usr/local/lib/python3.7/dist-packages (from flask-ngrok==0.0.25) (2.25.1)\n",
            "Requirement already satisfied: itsdangerous>=0.24 in /usr/local/lib/python3.7/dist-packages (from Flask>=0.8->flask-ngrok==0.0.25) (1.1.0)\n",
            "Requirement already satisfied: click>=5.1 in /usr/local/lib/python3.7/dist-packages (from Flask>=0.8->flask-ngrok==0.0.25) (7.1.2)\n",
            "Requirement already satisfied: Jinja2>=2.10.1 in /usr/local/lib/python3.7/dist-packages (from Flask>=0.8->flask-ngrok==0.0.25) (2.11.3)\n",
            "Requirement already satisfied: Werkzeug>=0.15 in /usr/local/lib/python3.7/dist-packages (from Flask>=0.8->flask-ngrok==0.0.25) (1.0.1)\n",
            "Requirement already satisfied: MarkupSafe>=0.23 in /usr/local/lib/python3.7/dist-packages (from Jinja2>=2.10.1->Flask>=0.8->flask-ngrok==0.0.25) (2.0.1)\n",
            "Requirement already satisfied: chardet<5,>=3.0.2 in /usr/local/lib/python3.7/dist-packages (from requests->flask-ngrok==0.0.25) (3.0.4)\n",
            "Requirement already satisfied: idna<3,>=2.5 in /usr/local/lib/python3.7/dist-packages (from requests->flask-ngrok==0.0.25) (2.10)\n",
            "Requirement already satisfied: certifi>=2017.4.17 in /usr/local/lib/python3.7/dist-packages (from requests->flask-ngrok==0.0.25) (2021.10.8)\n",
            "Requirement already satisfied: urllib3<1.27,>=1.21.1 in /usr/local/lib/python3.7/dist-packages (from requests->flask-ngrok==0.0.25) (1.24.3)\n",
            "Installing collected packages: flask-ngrok\n",
            "Successfully installed flask-ngrok-0.0.25\n"
          ]
        }
      ]
    },
    {
      "cell_type": "markdown",
      "source": [
        "# Mi Criptomoneda con Python"
      ],
      "metadata": {
        "id": "p8EoHN2IzkWe"
      }
    },
    {
      "cell_type": "code",
      "execution_count": 5,
      "metadata": {
        "id": "C5Tt2rnUzhO4"
      },
      "outputs": [],
      "source": [
        "# Importación de las librerías\n",
        "import datetime\n",
        "import hashlib\n",
        "import json\n",
        "import requests\n",
        "from uuid         import uuid4\n",
        "from flask        import Flask, jsonify, request\n",
        "from urllib.parse import urlparse\n",
        "from flask_ngrok  import run_with_ngrok"
      ]
    },
    {
      "cell_type": "markdown",
      "source": [
        "Creación de una clase Blockchain que contenga todos los métodos esenciales, como son los siguientes:\n",
        "\n",
        "\n",
        "*   Creación de un nuevo bloque\n",
        "*   Obtención del hash de un bloque\n",
        "*   Protocolo de concenso Proof of Work (PoW)\n",
        "*   Generación del hash de un bloque\n",
        "*   Verificación de la validez de la Blockchain\n",
        "*   Añadir nueva transacción a la cadena de bloques\n",
        "*   Añadir nuevo nodo a la cadena de bloques\n",
        "*   Reemplazar la Blockchain por la adecuada\n",
        "\n"
      ],
      "metadata": {
        "id": "ayKGSMDc1TlH"
      }
    },
    {
      "cell_type": "code",
      "source": [
        "class Blockchain:\n",
        "\n",
        "  def __init__(self):\n",
        "    \"\"\" Constructor de la clase. \"\"\"\n",
        "\n",
        "    self.chain = []\n",
        "    self.transactions = []\n",
        "    self.create_block(proof = 1, previous_hash = '0')\n",
        "    self.nodes = set()\n",
        "\n",
        "  def create_block(self, proof, previous_hash):\n",
        "    \"\"\" Creación de un nuevo bloque.\n",
        "\n",
        "      Arguments:\n",
        "        - proof: Nounce del bloque actual.\n",
        "        - previous_hash: Hash del bloque previo.\n",
        "\n",
        "      Returns:\n",
        "        - block: Nuevo bloque creado.\n",
        "    \"\"\"\n",
        "\n",
        "    block = { 'index'         : len(self.chain) + 1,\n",
        "              'timestamp'     : str(datetime.datetime.now()),\n",
        "              'proof'         : proof,\n",
        "              'previous_hash' : previous_hash,\n",
        "              'transactions'  : self.transactions}\n",
        "    self.transactions = []\n",
        "    self.chain.append(block)\n",
        "    return block\n",
        "\n",
        "  def get_previous_block(self):\n",
        "    \"\"\" Obtención del bloque previo de la Blockchain.\n",
        "\n",
        "        Returns:\n",
        "          - Obtención del último bloque de la Blockchain. \"\"\"\n",
        "\n",
        "    return self.chain[-1]\n",
        "\n",
        "  def proof_of_work(self, previous_proof):\n",
        "    \"\"\" Protocolo de concenso Proof of Work (PoW).\n",
        "\n",
        "      Arguments:\n",
        "        - previous_proof: Nounce del bloque previo.\n",
        "\n",
        "      Returns:\n",
        "        - new_proof: Devolución del nuevo nounce obtenido con PoW. \"\"\"\n",
        "        \n",
        "    new_proof = 1\n",
        "    check_proof = False\n",
        "    while check_proof is False:\n",
        "      hash_operation = hashlib.sha256(str(new_proof**2 - previous_proof**2).encode()).hexdigest()\n",
        "      if hash_operation[:4] == \"0000\":\n",
        "          check_proof = True\n",
        "      else:\n",
        "          new_proof += 1\n",
        "    return new_proof\n",
        "\n",
        "  def hash(self, block):\n",
        "    \"\"\" Cálculo del hash de un bloque.\n",
        "\n",
        "      Arguments:\n",
        "        - block: Identifica a un bloque de la Blockchain.\n",
        "\n",
        "      Returns:\n",
        "        - hash_block: Devuelve el hash del bloque. \"\"\"\n",
        "\n",
        "    encoded_block = json.dumps(block, sort_keys= True).encode()\n",
        "    hash_block = hashlib.sha256(encoded_block).hexdigest()\n",
        "    return hash_block\n",
        "\n",
        "  def is_chain_valid(self, chain):\n",
        "    \"\"\" Determina si la Blockchain es válida.\n",
        "\n",
        "      Arguments:\n",
        "          - chain: Cadena de bloques que contiene la información \n",
        "                    de todas las transacciones.\n",
        "\n",
        "      Returns:\n",
        "          - True/False: Devuelve un booleano en función de la validez de la \n",
        "                        Blockchain. (True = Válida, False = Inválida)\"\"\"\n",
        "\n",
        "    previous_block = chain[0]\n",
        "    block_index = 1    \n",
        "    while block_index < len(chain):\n",
        "        block = chain[block_index]\n",
        "        if block['previous_hash'] != self.hash(previous_block):\n",
        "            return False\n",
        "        previous_proof = previous_block['proof']\n",
        "        proof = block['proof']\n",
        "        hash_operation = hashlib.sha256(str(proof**2 - previous_proof**2).encode()).hexdigest()\n",
        "        if hash_operation[:4] != '0000':\n",
        "            return False\n",
        "        previous_block = block\n",
        "        block_index += 1\n",
        "    return True\n",
        "\n",
        "  def add_transaction(self, sender, receiver, amount):\n",
        "    \"\"\" Realización de una transacción.\n",
        "\n",
        "      Arguments:\n",
        "        - sender: Persona que recibe la transacción.\n",
        "        - receiver: Persona que recibe la transacción.\n",
        "        - amount: Cantidad de criptomonedas enviadas.\n",
        "      \n",
        "      Returns:\n",
        "        - Devolución del índice superior al último bloque\n",
        "    \"\"\"\n",
        "\n",
        "    self.transactions.append({'sender'  : sender,\n",
        "                              'receiver': receiver,\n",
        "                              'amount'  : amount,})\n",
        "    previous_block = self.get_previous_block()\n",
        "    return previous_block['index'] + 1\n",
        "\n",
        "    def add_note(self, address):\n",
        "      \"\"\" Nuevo nodo en la Blockchain.\n",
        "\n",
        "        Arguments:\n",
        "          - address: Dirección del nuevo nodo.\n",
        "      \"\"\"\n",
        "\n",
        "      parsed_url = urlparse(address)\n",
        "      self.nodes.add(parsed_url.netloc)\n",
        "\n",
        "    def replace_chain(self):\n",
        "      \"\"\" Reemplazo de la cadena por la cadena más larga,\n",
        "        siempre y cuando sea válida. \"\"\"\n",
        "      \n",
        "      network = self.nodes\n",
        "      longest_chain = None\n",
        "      max_length = len(self.chain)\n",
        "      for node in network:\n",
        "        response = requests.get(f'http://{node}/get_chain')\n",
        "        if response.status_code == 200:\n",
        "          length = response.json()['length']\n",
        "          chain = response.json()['chain']\n",
        "          if length > max_length and self.is_chain_valid(chain):\n",
        "            max_length = length\n",
        "            longest_chain = chain\n",
        "      if longest_chain:\n",
        "        self.chain = longest_chain\n",
        "        return True\n",
        "      return False"
      ],
      "metadata": {
        "id": "ivIEqO4T2dha"
      },
      "execution_count": 8,
      "outputs": []
    },
    {
      "cell_type": "code",
      "source": [
        "# Minado de un Bloque de la Cadena\n",
        "\n",
        "# Crear una aplicación web\n",
        "app = Flask(__name__)\n",
        "run_with_ngrok(app)\n",
        "\n",
        "# Si se obtiene un error 500, actualizar flask, reiniciar spyder y ejecutar la siguiente línea\n",
        "app.config['JSONIFY_PRETTYPRINT_REGULAR'] = False\n",
        "\n",
        "# Crear"
      ],
      "metadata": {
        "id": "H-GZ7sZmbvKR"
      },
      "execution_count": null,
      "outputs": []
    }
  ]
}